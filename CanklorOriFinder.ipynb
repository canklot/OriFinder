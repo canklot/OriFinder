{
  "nbformat": 4,
  "nbformat_minor": 0,
  "metadata": {
    "kernelspec": {
      "display_name": "Python 3",
      "language": "python",
      "name": "python3"
    },
    "language_info": {
      "codemirror_mode": {
        "name": "ipython",
        "version": 3
      },
      "file_extension": ".py",
      "mimetype": "text/x-python",
      "name": "python",
      "nbconvert_exporter": "python",
      "pygments_lexer": "ipython3",
      "version": "3.6.11"
    },
    "colab": {
      "name": "Untitled.ipynb",
      "provenance": []
    }
  },
  "cells": [
    {
      "cell_type": "code",
      "metadata": {
        "id": "5T-8BcMraPqE"
      },
      "source": [
        "from collections import Counter"
      ],
      "execution_count": 8,
      "outputs": []
    },
    {
      "cell_type": "markdown",
      "metadata": {
        "id": "BFiMNS0qaPqI"
      },
      "source": [
        "Cause of string.count() is slow and we have a HUGE dataset we need a faster method to search. Collections.Counter is a data type for counting data using hash tables which is very fast"
      ]
    },
    {
      "cell_type": "code",
      "metadata": {
        "id": "wP5Ikus0aPqJ"
      },
      "source": [
        "def diveandconquer(s):\n",
        "    maxcount = 0\n",
        "    maxsubstring = \"\"\n",
        "    for u in range(5, 20):\n",
        "        allsubstrings = []\n",
        "        for i in (range(len(s)-u+2)):\n",
        "            allsubstrings.append(s[i:i+u])\n",
        "        c = Counter(allsubstrings).most_common(1)\n",
        "        if(c[0][1] >= maxcount):\n",
        "            maxsubstring = c[0][0]\n",
        "            maxcount = c[0][1]\n",
        "    return maxsubstring + \" \" +str(maxcount) "
      ],
      "execution_count": 9,
      "outputs": []
    },
    {
      "cell_type": "markdown",
      "metadata": {
        "id": "Q2-mXEFBaPqL"
      },
      "source": [
        "We have two variables to store max number of occurances and most frequent substring. Then we have a list to store all possible substring. In the for loop we create 5 charecter long substrings by shift throug original string. Then we create a counter object with all possible substring and retrive the most common one and assign it to C. Counter object return two tupples in a list in this format [(\"theword\"),(20)] first the word and the number of occurances. If the number of occurance is higher than previus maxcount value we assign current substring and count to maxcount and maxsubstring. The we itterate the same code with 5 to 20 charecters long substrings.\n"
      ]
    },
    {
      "cell_type": "code",
      "metadata": {
        "id": "MdZvuNq2aPqM"
      },
      "source": [
        "#f = open(\"vibrio_cholerae_light.txt\", \"r\")\n",
        "#f = open(\"vibrio_cholerae_med.txt\", \"r\")\n",
        "# = open(\"deneme.txt\", \"r\")\n",
        "\n",
        "f = open(\"vibrio_cholerae.txt\", \"r\")\n",
        "data = f.read()\n",
        "f.close()\n"
      ],
      "execution_count": 10,
      "outputs": []
    },
    {
      "cell_type": "markdown",
      "metadata": {
        "id": "IVwRpLdaaPqP"
      },
      "source": [
        "We read our dataset from a file and store it in a variable named data. I created 3 alternative datasets by deleting much of the original dataset to prevent memory errors and reduce the time taken by running the code while prototyping"
      ]
    },
    {
      "cell_type": "code",
      "metadata": {
        "id": "BgL_3omFaPqP",
        "outputId": "af5fb608-74ef-4dcd-dec3-6384a18dddb2",
        "colab": {
          "base_uri": "https://localhost:8080/"
        }
      },
      "source": [
        "sonuc = diveandconquer(data)\n",
        "print(sonuc)"
      ],
      "execution_count": 11,
      "outputs": [
        {
          "output_type": "stream",
          "text": [
            "TTTTT 3193\n"
          ],
          "name": "stdout"
        }
      ]
    },
    {
      "cell_type": "markdown",
      "metadata": {
        "id": "jwUYSANRaPqS"
      },
      "source": [
        "And laslty we call our function and print it"
      ]
    }
  ]
}